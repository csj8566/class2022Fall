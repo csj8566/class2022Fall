{
  "nbformat": 4,
  "nbformat_minor": 0,
  "metadata": {
    "colab": {
      "provenance": [],
      "authorship_tag": "ABX9TyPa7ZKkcNB3bJYvbzVwqTk2",
      "include_colab_link": true
    },
    "kernelspec": {
      "name": "python3",
      "display_name": "Python 3"
    },
    "language_info": {
      "name": "python"
    }
  },
  "cells": [
    {
      "cell_type": "markdown",
      "metadata": {
        "id": "view-in-github",
        "colab_type": "text"
      },
      "source": [
        "<a href=\"https://colab.research.google.com/github/csj8566/class2022Fall/blob/main/2018131425_%EA%B3%A0%EC%88%98%ED%98%84_%EA%B5%90%EB%B3%B4%EB%AC%B8%EA%B3%A0_gradio.ipynb\" target=\"_parent\"><img src=\"https://colab.research.google.com/assets/colab-badge.svg\" alt=\"Open In Colab\"/></a>"
      ]
    },
    {
      "cell_type": "code",
      "execution_count": null,
      "metadata": {
        "id": "qPoOF82CGUoa"
      },
      "outputs": [],
      "source": [
        "!pip install gradio\n",
        "import gradio as gr\n",
        "import pandas as pd\n",
        "import json\n",
        "import requests"
      ]
    },
    {
      "cell_type": "code",
      "source": [
        "bookID = 'S000000620181'\n",
        "url='https://product.kyobobook.co.kr/api/review/list?page=1&pageLimit=10000&reviewSort=001&revwPatrCode=000&saleCmdtid='+bookID"
      ],
      "metadata": {
        "id": "RbwGFef9Gmj8"
      },
      "execution_count": null,
      "outputs": []
    },
    {
      "cell_type": "code",
      "source": [
        "response = requests.get(url)\n",
        "response"
      ],
      "metadata": {
        "id": "vpzcsfcsGm9D"
      },
      "execution_count": null,
      "outputs": []
    },
    {
      "cell_type": "code",
      "source": [
        "response.text"
      ],
      "metadata": {
        "id": "zQcJ0sBbGqUT"
      },
      "execution_count": null,
      "outputs": []
    },
    {
      "cell_type": "code",
      "source": [
        "json_txt = response.text\n",
        "dict_data = json.loads(json_txt)"
      ],
      "metadata": {
        "id": "K-o4Q8jxGrqG"
      },
      "execution_count": null,
      "outputs": []
    },
    {
      "cell_type": "code",
      "source": [
        "df = pd.DataFrame(dict_data['data']['reviewList'])  "
      ],
      "metadata": {
        "id": "7AdEiIEiGtvd"
      },
      "execution_count": null,
      "outputs": []
    },
    {
      "cell_type": "code",
      "source": [
        "df"
      ],
      "metadata": {
        "id": "qznRmoQ4GvS0"
      },
      "execution_count": null,
      "outputs": []
    },
    {
      "cell_type": "code",
      "source": [
        "# creating method\n",
        "\n",
        "def test(input_bookID):\n",
        "\n",
        "  url='https://product.kyobobook.co.kr/api/review/list?page=1&pageLimit=10000&reviewSort=001&revwPatrCode=000&saleCmdtid='+input_bookID\n",
        "  response = requests.get(url)\n",
        "\n",
        "  json_txt = response.text\n",
        "  dict_data = json.loads(json_txt)\n",
        "\n",
        "  df = pd.DataFrame(dict_data['data']['reviewList'])\n",
        "  df = df.drop(df.columns[1:5], axis = 1)\n",
        "  df = df.drop(df.columns[4:6], axis = 1)\n",
        "  df = df.drop(df.columns[5:-8], axis = 1)\n",
        "  df = df.drop(df.columns[-7:], axis = 1) \n",
        "\n",
        "  df.columns = ['리뷰번호', '아이디', '작성시간','댓글내용','감정표현','댓글추천']\n",
        "\n",
        "  return df"
      ],
      "metadata": {
        "id": "ercwxYQNGcY8"
      },
      "execution_count": null,
      "outputs": []
    },
    {
      "cell_type": "code",
      "source": [
        "demo = gr.Interface(fn=test, inputs=[\"text\"], outputs=\"dataframe\")\n",
        "demo.launch(share=True) \n",
        "\n",
        "#  S000000620181"
      ],
      "metadata": {
        "id": "yLx2vDXGGedw"
      },
      "execution_count": null,
      "outputs": []
    }
  ]
}